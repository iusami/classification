{
 "cells": [
  {
   "cell_type": "code",
   "execution_count": 64,
   "metadata": {},
   "outputs": [],
   "source": [
    "from sklearn.svm import SVC\n",
    "from sklearn.model_selection import train_test_split\n",
    "from sklearn.metrics import accuracy_score\n",
    "import numpy as np\n",
    "import scipy\n",
    "import matplotlib.pyplot as plt\n",
    "import matplotlib.cm as cm\n",
    "import seaborn as sb\n",
    "import pandas as pd\n",
    "\n",
    "%matplotlib inline"
   ]
  },
  {
   "cell_type": "code",
   "execution_count": 66,
   "metadata": {
    "scrolled": true
   },
   "outputs": [
    {
     "name": "stdout",
     "output_type": "stream",
     "text": [
      "    mcg   gvh   lip  chg   aac  alm1  alm2 class\n",
      "0  0.49  0.29  0.48  0.5  0.56  0.24  0.35    cp\n",
      "1  0.07  0.40  0.48  0.5  0.54  0.35  0.44    cp\n",
      "2  0.56  0.40  0.48  0.5  0.49  0.37  0.46    cp\n",
      "3  0.59  0.49  0.48  0.5  0.52  0.45  0.36    cp\n",
      "4  0.23  0.32  0.48  0.5  0.55  0.25  0.35    cp\n",
      "              mcg         gvh         lip         chg         aac        alm1  \\\n",
      "count  336.000000  336.000000  336.000000  336.000000  336.000000  336.000000   \n",
      "mean     0.500060    0.500000    0.495476    0.501488    0.500030    0.500179   \n",
      "std      0.194634    0.148157    0.088495    0.027277    0.122376    0.215751   \n",
      "min      0.000000    0.160000    0.480000    0.500000    0.000000    0.030000   \n",
      "25%      0.340000    0.400000    0.480000    0.500000    0.420000    0.330000   \n",
      "50%      0.500000    0.470000    0.480000    0.500000    0.495000    0.455000   \n",
      "75%      0.662500    0.570000    0.480000    0.500000    0.570000    0.710000   \n",
      "max      0.890000    1.000000    1.000000    1.000000    0.880000    1.000000   \n",
      "\n",
      "             alm2  \n",
      "count  336.000000  \n",
      "mean     0.499732  \n",
      "std      0.209411  \n",
      "min      0.000000  \n",
      "25%      0.350000  \n",
      "50%      0.430000  \n",
      "75%      0.710000  \n",
      "max      0.990000  \n"
     ]
    },
    {
     "name": "stderr",
     "output_type": "stream",
     "text": [
      "/usr/local/lib/python3.5/dist-packages/ipykernel_launcher.py:3: ParserWarning: Falling back to the 'python' engine because the 'c' engine does not support regex separators (separators > 1 char and different from '\\s+' are interpreted as regex); you can avoid this warning by specifying engine='python'.\n",
      "  This is separate from the ipykernel package so we can avoid doing imports until\n"
     ]
    }
   ],
   "source": [
    "#ecoli = pd.read_csv(\"data/ecoli.csv\",\n",
    "#                      names=(\"Sequencename\",\"mcg\",\"gvh\",\"lip\",\"chg\",\"aac\",\"alm1\",\"alm2\",\"class\"))\n",
    "ecoli = pd.read_csv(\"data/ecoli_wo_seq.csv\",sep=\"\\ \")\n",
    "#ecoli.columns = \"Sequencename\",\"mcg\",\"gvh\",\"lip\",\"chg\",\"aac\",\"alm1\",\"alm2\",\"class\"\n",
    "print(ecoli.head())\n",
    "print(ecoli.describe())"
   ]
  },
  {
   "cell_type": "code",
   "execution_count": 70,
   "metadata": {},
   "outputs": [
    {
     "name": "stdout",
     "output_type": "stream",
     "text": [
      "0.7957446808510639\n"
     ]
    }
   ],
   "source": [
    "X = ecoli.drop(\"class\",axis=1)\n",
    "Y = ecoli[\"class\"]\n",
    "X_train,X_test,y_train,y_test = train_test_split(X,Y,test_size=0.3,random_state=None)\n",
    "model=SVC(kernel=\"linear\",random_state=None)\n",
    "model.fit(X_train,y_train)\n",
    "pred = model.predict(X_train)\n",
    "accuracy_train = accuracy_score(y_train,pred)\n",
    "print(accuracy_train)"
   ]
  },
  {
   "cell_type": "code",
   "execution_count": null,
   "metadata": {},
   "outputs": [],
   "source": []
  }
 ],
 "metadata": {
  "kernelspec": {
   "display_name": "Python 3",
   "language": "python",
   "name": "python3"
  },
  "language_info": {
   "codemirror_mode": {
    "name": "ipython",
    "version": 3
   },
   "file_extension": ".py",
   "mimetype": "text/x-python",
   "name": "python",
   "nbconvert_exporter": "python",
   "pygments_lexer": "ipython3",
   "version": "3.5.2"
  }
 },
 "nbformat": 4,
 "nbformat_minor": 2
}
